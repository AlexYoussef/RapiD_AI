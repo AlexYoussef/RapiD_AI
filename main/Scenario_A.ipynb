{
 "cells": [
  {
   "cell_type": "markdown",
   "metadata": {},
   "source": [
    "### Scenario A\n",
    "Last updated Mar 11, 2022"
   ]
  },
  {
   "cell_type": "code",
   "metadata": {},
   "source": [
    "from sys import path as pylib\n",
    "import os\n",
    "pylib += [os.path.abspath('../')]"
   ],
   "outputs": [],
   "execution_count": null
  },
  {
   "cell_type": "code",
   "metadata": {},
   "source": [
    "import pickle\n",
    "from transfer_learning.transfer_utils import get_device\n",
    "from utils.utility_functions import get_best_params\n",
    "from models.models_manager import BasicMLPModelManager, BasicTabNetModelManager, BasicXGBoostModelManager\n",
    "from models.trainers import train_with_grid_search, train_with_CI\n",
    "\n",
    "from configs.features_sets import ALL_FEATURES\n",
    "from configs.training import BIN_CLASSIFICATION_WEIGHTS, MLP_EVAL_METRIC, TABNET_EVAL_METRIC, XGBOOST_EVAL_METRIC\n",
    "from configs.files import *"
   ],
   "outputs": [],
   "execution_count": null
  },
  {
   "cell_type": "code",
   "metadata": {},
   "source": [
    "device = get_device()"
   ],
   "outputs": [],
   "execution_count": null
  },
  {
   "cell_type": "markdown",
   "metadata": {},
   "source": [
    "## 1. DNN"
   ]
  },
  {
   "cell_type": "markdown",
   "metadata": {},
   "source": [
    "### 1.1. DNN (from scratch) - grid search"
   ]
  },
  {
   "cell_type": "code",
   "metadata": {
    "tags": []
   },
   "source": [
    "model_manager = BasicMLPModelManager(device=device)\n",
    "MLP_GS_results, weekly_best_params = train_with_grid_search(model_manager=model_manager,\n",
    "                                                            train_data_path=PREVENT_EXP1_PATH,\n",
    "                                                            features=ALL_FEATURES, test_data_path=TEST_EXP1_PATH,\n",
    "                                                            interval=7, eval_metric=MLP_EVAL_METRIC,\n",
    "                                                            class_weights=BIN_CLASSIFICATION_WEIGHTS)\n",
    "MLP_GS_results.to_csv(EXP_1_MLP_GS_FILE, index=False)\n",
    "with open(EXP_1_MLP_WEEKLY_PARAMS_FILE, 'wb') as f:\n",
    "    pickle.dump(weekly_best_params, f)\n"
   ],
   "outputs": [],
   "execution_count": null
  },
  {
   "cell_type": "markdown",
   "metadata": {},
   "source": [
    "### 1.2. DNN (from scratch) - Confidence interval estimation"
   ]
  },
  {
   "cell_type": "code",
   "metadata": {
    "tags": []
   },
   "source": [
    "model_manager = BasicMLPModelManager(device=device)\n",
    "\n",
    "with open(EXP_1_MLP_WEEKLY_PARAMS_FILE, 'rb') as f:\n",
    "    best_mlp_params = pickle.load(f)\n",
    "params = get_best_params(params_AUC_pairs=best_mlp_params, n_weeks=3)\n",
    "\n",
    "MLP_CI_results = train_with_CI(model_manager=model_manager, train_data_path=PREVENT_EXP1_PATH, features=ALL_FEATURES,\n",
    "                               test_data_path=TEST_EXP1_PATH, interval=7, params=params, eval_metric=MLP_EVAL_METRIC,\n",
    "                               class_weights=BIN_CLASSIFICATION_WEIGHTS)\n",
    "MLP_CI_results.to_csv(EXP_1_MLP_CI_FILE, index=False)\n"
   ],
   "outputs": [],
   "execution_count": null
  },
  {
   "cell_type": "markdown",
   "metadata": {},
   "source": [
    "### 1.3. DNN (domain adaptation) - grid search"
   ]
  },
  {
   "cell_type": "code",
   "metadata": {
    "tags": []
   },
   "source": [
    "model_manager = BasicMLPModelManager(from_pretrained=True, device=device,\n",
    "                                     pretrained_path='../transfer_learning/pretrained_models/EXP_1_MLP.pkl') # Add pre-trained models here\n",
    "MLP_GS_results, weekly_best_params = train_with_grid_search(model_manager=model_manager,\n",
    "                                                            train_data_path=PREVENT_EXP1_PATH,\n",
    "                                                            features=ALL_FEATURES, test_data_path=TEST_EXP1_PATH,\n",
    "                                                            interval=7, eval_metric=MLP_EVAL_METRIC,\n",
    "                                                            class_weights=BIN_CLASSIFICATION_WEIGHTS)\n",
    "MLP_GS_results.to_csv(EXP_1_MLP_TL_GS_FILE, index=False)\n",
    "with open(EXP_1_MLP_TL_WEEKLY_PARAMS_FILE, 'wb') as f:\n",
    "    pickle.dump(weekly_best_params, f)\n"
   ],
   "outputs": [],
   "execution_count": null
  },
  {
   "cell_type": "markdown",
   "metadata": {},
   "source": [
    "### 1.4. DNN (domain adaptation) - Confidence interval estimation"
   ]
  },
  {
   "cell_type": "code",
   "metadata": {
    "tags": []
   },
   "source": [
    "model_manager = BasicMLPModelManager(from_pretrained=True, device=device,\n",
    "                                     pretrained_path='../transfer_learning/pretrained_models/EXP_1_MLP.pkl') # Add pre-trained models here\n",
    "\n",
    "with open(EXP_1_MLP_TL_WEEKLY_PARAMS_FILE, 'rb') as f:\n",
    "    best_mlp_params = pickle.load(f)\n",
    "\n",
    "params = get_best_params(params_AUC_pairs=best_mlp_params, n_weeks=3)\n",
    "MLP_TL_CI_results = train_with_CI(model_manager=model_manager, train_data_path=PREVENT_EXP1_PATH, features=ALL_FEATURES,\n",
    "                                  test_data_path=TEST_EXP1_PATH, interval=7, params=params,\n",
    "                                  eval_metric=MLP_EVAL_METRIC, class_weights=BIN_CLASSIFICATION_WEIGHTS)\n",
    "MLP_TL_CI_results.to_csv(EXP_1_MLP_TL_CI_FILE, index=False)\n"
   ],
   "outputs": [],
   "execution_count": null
  },
  {
   "cell_type": "markdown",
   "metadata": {},
   "source": [
    "### 1.5. DNN (domain adaptation) - Extended study period - Grid search"
   ]
  },
  {
   "cell_type": "code",
   "metadata": {
    "tags": []
   },
   "source": [
    "model_manager = BasicMLPModelManager(from_pretrained=True, device=device,\n",
    "                                     pretrained_path='../transfer_learning/pretrained_models/EXP_1_MLP.pkl') # Add pre-trained models here\n",
    "MLP_EXPANDED_GS_results, weekly_best_params = train_with_grid_search(model_manager=model_manager, interval=7,\n",
    "                                                                     train_data_path=PREVENT_EXPANDED_EXP1_PATH,\n",
    "                                                                     features=ALL_FEATURES, eval_metric=MLP_EVAL_METRIC,\n",
    "                                                                     test_data_path=TEST_SHRINKED_EXP1_PATH,\n",
    "                                                                     class_weights=BIN_CLASSIFICATION_WEIGHTS)\n",
    "MLP_EXPANDED_GS_results.to_csv(EXP_1_MLP_EXPANDED_TL_GS_FILE, index=False)\n",
    "with open(EXP_1_MLP_EXPANDED_TL_WEEKLY_PARAMS_FILE, 'wb') as f:\n",
    "    pickle.dump(weekly_best_params, f)\n"
   ],
   "outputs": [],
   "execution_count": null
  },
  {
   "cell_type": "markdown",
   "metadata": {},
   "source": [
    "### 1.6. DNN (domain adaptation) - Extended study period -  Confidence interval estimation"
   ]
  },
  {
   "cell_type": "code",
   "metadata": {
    "tags": []
   },
   "source": [
    "model_manager = BasicMLPModelManager(from_pretrained=True, device=device,\n",
    "                                     pretrained_path='../transfer_learning/pretrained_models/EXP_1_MLP.pkl') # Add pre-trained models here\n",
    "\n",
    "with open(EXP_1_MLP_EXPANDED_TL_WEEKLY_PARAMS_FILE, 'rb') as f:\n",
    "    best_mlp_params = pickle.load(f)\n",
    "params = get_best_params(params_AUC_pairs=best_mlp_params, n_weeks=3)\n",
    "\n",
    "MLP_TL_CI_results = train_with_CI(model_manager=model_manager, train_data_path=PREVENT_EXPANDED_EXP1_PATH, features=ALL_FEATURES,\n",
    "                                  test_data_path=TEST_SHRINKED_EXP1_PATH, interval=7, params=params,\n",
    "                                  eval_metric=MLP_EVAL_METRIC, class_weights=BIN_CLASSIFICATION_WEIGHTS)\n",
    "MLP_TL_CI_results.to_csv(EXP_1_MLP_EXPANDED_TL_CI_FILE, index=False)\n"
   ],
   "outputs": [],
   "execution_count": null
  },
  {
   "cell_type": "markdown",
   "metadata": {},
   "source": [
    "## 2. TabNet"
   ]
  },
  {
   "cell_type": "markdown",
   "metadata": {},
   "source": [
    "### 2.1. TabNet (from scratch) - grid search"
   ]
  },
  {
   "cell_type": "code",
   "metadata": {
    "tags": []
   },
   "source": [
    "model_manager = BasicTabNetModelManager()\n",
    "TABNET_GS_results, weekly_best_params = train_with_grid_search(model_manager=model_manager,\n",
    "                                                               train_data_path=PREVENT_EXP1_PATH,\n",
    "                                                               features=ALL_FEATURES, test_data_path=TEST_EXP1_PATH,\n",
    "                                                               interval=7, eval_metric=TABNET_EVAL_METRIC,\n",
    "                                                               class_weights=BIN_CLASSIFICATION_WEIGHTS)\n",
    "TABNET_GS_results.to_csv(EXP_1_TABNET_GS_FILE, index=False)\n",
    "with open(EXP_1_TABNET_WEEKLY_PARAMS_FILE, 'wb') as f:\n",
    "    pickle.dump(weekly_best_params, f)"
   ],
   "outputs": [],
   "execution_count": null
  },
  {
   "cell_type": "markdown",
   "metadata": {},
   "source": [
    "### 2.2. TabNet (from scratch) - Confidence interval estimation"
   ]
  },
  {
   "cell_type": "code",
   "metadata": {
    "tags": []
   },
   "source": [
    "model_manager = BasicTabNetModelManager()\n",
    "\n",
    "with open(EXP_1_TABNET_WEEKLY_PARAMS_FILE, 'rb') as f:\n",
    "    best_TanNet_params = pickle.load(f)\n",
    "params = get_best_params(params_AUC_pairs=best_TanNet_params, n_weeks=3)\n",
    "\n",
    "TabNet_CI_results = train_with_CI(model_manager=model_manager, train_data_path=PREVENT_EXP1_PATH, features=ALL_FEATURES,\n",
    "                                  test_data_path=TEST_EXP1_PATH, interval=7, params=params,\n",
    "                                  eval_metric=TABNET_EVAL_METRIC, class_weights=BIN_CLASSIFICATION_WEIGHTS)\n",
    "TabNet_CI_results.to_csv(EXP_1_TabNet_CI_FILE, index=False)"
   ],
   "outputs": [],
   "execution_count": null
  },
  {
   "cell_type": "markdown",
   "metadata": {},
   "source": [
    "### 2.3. TabNet (domain adaptation) - grid search"
   ]
  },
  {
   "cell_type": "code",
   "metadata": {
    "tags": []
   },
   "source": [
    "model_manager = BasicTabNetModelManager(from_pretrained=True,\n",
    "                                        pretrained_path='../transfer_learning/pretrained_models/TabNet.zip') # Add pre-trained models here\n",
    "TABNET_GS_results, weekly_best_params = train_with_grid_search(model_manager=model_manager,\n",
    "                                                               train_data_path=PREVENT_EXP1_PATH,\n",
    "                                                               features=ALL_FEATURES, test_data_path=TEST_EXP1_PATH,\n",
    "                                                               interval=7, eval_metric=TABNET_EVAL_METRIC,\n",
    "                                                               class_weights=BIN_CLASSIFICATION_WEIGHTS)\n",
    "TABNET_GS_results.to_csv(EXP_1_TABNET_TL_GS_FILE, index=False)\n",
    "with open(EXP_1_TABNET_TL_WEEKLY_PARAMS_FILE, 'wb') as f:\n",
    "    pickle.dump(weekly_best_params, f)"
   ],
   "outputs": [],
   "execution_count": null
  },
  {
   "cell_type": "markdown",
   "metadata": {},
   "source": [
    "### 2.4. TabNet (domain adaptation) - Confidence interval estimation"
   ]
  },
  {
   "cell_type": "code",
   "metadata": {
    "tags": []
   },
   "source": [
    "model_manager = BasicTabNetModelManager(from_pretrained=True,\n",
    "                                        pretrained_path='../transfer_learning/pretrained_models/TabNet.zip') # Add pre-trained models here\n",
    "with open(EXP_1_TABNET_TL_WEEKLY_PARAMS_FILE, 'rb') as f:\n",
    "    best_TanNet_params = pickle.load(f)\n",
    "params = get_best_params(params_AUC_pairs=best_TanNet_params, n_weeks=3)\n",
    "\n",
    "\n",
    "TabNet_CI_results = train_with_CI(model_manager=model_manager, train_data_path=PREVENT_EXP1_PATH, features=ALL_FEATURES,\n",
    "                                  test_data_path=TEST_EXP1_PATH, interval=7, params=params,\n",
    "                                  eval_metric=TABNET_EVAL_METRIC, class_weights=BIN_CLASSIFICATION_WEIGHTS)\n",
    "TabNet_CI_results.to_csv(EXP_1_TABNET_TL_CI_FILE, index=False)"
   ],
   "outputs": [],
   "execution_count": null
  },
  {
   "cell_type": "markdown",
   "metadata": {},
   "source": [
    "## 3. XGBoost"
   ]
  },
  {
   "cell_type": "markdown",
   "metadata": {},
   "source": [
    "### 3.1. XGBoost - grid search"
   ]
  },
  {
   "cell_type": "code",
   "metadata": {
    "tags": []
   },
   "source": [
    "xgboost_GC_results, weekly_best_params = train_with_grid_search(model_manager=BasicXGBoostModelManager(),\n",
    "                                                                train_data_path=PREVENT_EXP1_PATH,\n",
    "                                                                test_data_path=TEST_EXP1_PATH, threshold=0.5,\n",
    "                                                                features=ALL_FEATURES, interval=7,\n",
    "                                                                class_weights=BIN_CLASSIFICATION_WEIGHTS,\n",
    "                                                                eval_metric=XGBOOST_EVAL_METRIC)\n",
    "xgboost_GC_results.to_csv(EXP_1_XGBOOST_GS_FILE, index=False)\n",
    "with open(EXP_1_XGBOOST_WEEKLY_PARAMS_FILE, 'wb') as f:\n",
    "    pickle.dump(weekly_best_params, f)\n"
   ],
   "outputs": [],
   "execution_count": null
  },
  {
   "cell_type": "markdown",
   "metadata": {},
   "source": [
    "### 3.2. XGBoost - Confidence interval estimation"
   ]
  },
  {
   "cell_type": "code",
   "metadata": {
    "tags": []
   },
   "source": [
    "with open(EXP_1_XGBOOST_WEEKLY_PARAMS_FILE, 'rb') as f:\n",
    "    best_xgboost_params = pickle.load(f)\n",
    "params = get_best_params(params_AUC_pairs=best_xgboost_params, n_weeks=3)\n",
    "\n",
    "xgboost_CI_results = train_with_CI(model_manager=BasicXGBoostModelManager(), train_data_path=PREVENT_EXP1_PATH,\n",
    "                                   test_data_path=TEST_EXP1_PATH, features=ALL_FEATURES, interval=7,params=params,\n",
    "                                   class_weights=BIN_CLASSIFICATION_WEIGHTS, eval_metric=XGBOOST_EVAL_METRIC,\n",
    "                                   threshold=0.5)\n",
    "xgboost_CI_results.to_csv(EXP_1_XGBOOST_CI_FILE, index=False)\n"
   ],
   "outputs": [],
   "execution_count": null
  },
  {
   "cell_type": "markdown",
   "metadata": {},
   "source": [
    "### 3.3. XGBoost - Extended study period - Grid search"
   ]
  },
  {
   "cell_type": "code",
   "metadata": {
    "tags": []
   },
   "source": [
    "xgboost_EXPANDED_GC_results, weekly_best_params = train_with_grid_search(model_manager=BasicXGBoostModelManager(),\n",
    "                                                                         train_data_path=PREVENT_EXPANDED_EXP1_PATH,\n",
    "                                                                         test_data_path=TEST_SHRINKED_EXP1_PATH,\n",
    "                                                                         features=ALL_FEATURES, interval=7,\n",
    "                                                                         class_weights=BIN_CLASSIFICATION_WEIGHTS,\n",
    "                                                                         eval_metric=XGBOOST_EVAL_METRIC,\n",
    "                                                                         threshold=0.5)\n",
    "xgboost_EXPANDED_GC_results.to_csv(EXP_1_XGBOOST_EXPANDED_GS_FILE, index=False)\n",
    "with open(EXP_1_XGBOOST_EXPANDED_WEEKLY_PARAMS_FILE, 'wb') as f:\n",
    "    pickle.dump(weekly_best_params, f)\n"
   ],
   "outputs": [],
   "execution_count": null
  },
  {
   "cell_type": "markdown",
   "metadata": {},
   "source": [
    "### 3.4. XGBoost - Extended study period - Confidence interval estimation"
   ]
  },
  {
   "cell_type": "code",
   "metadata": {
    "tags": []
   },
   "source": [
    "with open(EXP_1_XGBOOST_EXPANDED_WEEKLY_PARAMS_FILE, 'rb') as f:\n",
    "    best_xgboost_params = pickle.load(f)\n",
    "params = get_best_params(params_AUC_pairs=best_xgboost_params, n_weeks=3)\n",
    "\n",
    "xgboost_EXPANDED_CI_results = train_with_CI(model_manager=BasicXGBoostModelManager(),\n",
    "                                            train_data_path=PREVENT_EXPANDED_EXP1_PATH, eval_metric=XGBOOST_EVAL_METRIC,\n",
    "                                            test_data_path=TEST_SHRINKED_EXP1_PATH, features=ALL_FEATURES, interval=7,\n",
    "                                            params=params, class_weights=BIN_CLASSIFICATION_WEIGHTS, threshold=0.5)\n",
    "xgboost_EXPANDED_CI_results.to_csv(EXP_1_XGBOOST_EXPANDED_CI_FILE, index=False)"
   ],
   "outputs": [],
   "execution_count": null
  },
  {
   "cell_type": "code",
   "metadata": {},
   "source": [],
   "outputs": [],
   "execution_count": null
  }
 ],
 "metadata": {
  "kernelspec": {
   "display_name": "Python 3 (ipykernel)",
   "language": "python",
   "name": "python3"
  },
  "language_info": {
   "codemirror_mode": {
    "name": "ipython",
    "version": 3
   },
   "file_extension": ".py",
   "mimetype": "text/x-python",
   "name": "python",
   "nbconvert_exporter": "python",
   "pygments_lexer": "ipython3",
   "version": "3.11.6"
  }
 },
 "nbformat": 4,
 "nbformat_minor": 4
}
