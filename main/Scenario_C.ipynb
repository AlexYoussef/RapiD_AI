{
 "cells": [
  {
   "cell_type": "markdown",
   "id": "ed4f41ef",
   "metadata": {},
   "source": [
    "### Scenario C\n",
    "Last updated Mar 11, 2022"
   ]
  },
  {
   "cell_type": "code",
   "id": "d2de484d-5a60-4381-8dd7-576a45e629de",
   "metadata": {},
   "source": [
    "from sys import path as pylib\n",
    "import os\n",
    "pylib += [os.path.abspath('../')]"
   ],
   "outputs": [],
   "execution_count": null
  },
  {
   "cell_type": "code",
   "id": "1343e602",
   "metadata": {},
   "source": [
    "import pickle\n",
    "from transfer_learning.transfer_utils import get_device\n",
    "from models.trainers import train_with_grid_search, train_with_CI\n",
    "from models.models_manager import BasicMLPModelManager\n",
    "from configs.features_sets import ALL_FEATURES\n",
    "from configs.training import BIN_CLASSIFICATION_WEIGHTS, MLP_EVAL_METRIC\n",
    "from utils.utility_functions import get_best_params\n",
    "from configs.files import *"
   ],
   "outputs": [],
   "execution_count": null
  },
  {
   "cell_type": "code",
   "id": "7927fe2b",
   "metadata": {},
   "source": [
    "device = get_device()"
   ],
   "outputs": [],
   "execution_count": null
  },
  {
   "cell_type": "markdown",
   "id": "ba4204b7",
   "metadata": {},
   "source": [
    "## 1. DNN"
   ]
  },
  {
   "cell_type": "markdown",
   "id": "a511e2b2",
   "metadata": {},
   "source": [
    "### 1.1 DNN (Inductive Transfer) - grid search"
   ]
  },
  {
   "cell_type": "code",
   "id": "494f2b30",
   "metadata": {
    "tags": []
   },
   "source": [
    "model_manager = BasicMLPModelManager(from_pretrained=True, device=device,\n",
    "                                     pretrained_path='../transfer_learning/pretrained_models/MLP_Scenario_C.pkl') # Add pre-trained models here\n",
    "MLP_IT_GS_results, weekly_best_params = train_with_grid_search(model_manager=model_manager, interval=7,\n",
    "                                                               train_data_path=PREVENT_EXP1_PATH,\n",
    "                                                               features=ALL_FEATURES, eval_metric=MLP_EVAL_METRIC,\n",
    "                                                               test_data_path=TEST_EXP1_PATH,\n",
    "                                                               class_weights=BIN_CLASSIFICATION_WEIGHTS)\n",
    "MLP_IT_GS_results.to_csv(EXP_3_MLP_IT_GS_FILE, index=False)\n",
    "with open(EXP_3_MLP_IT_WEEKLY_PARAMS_FILE, 'wb') as f:\n",
    "    pickle.dump(weekly_best_params, f)"
   ],
   "outputs": [],
   "execution_count": null
  },
  {
   "cell_type": "markdown",
   "id": "bfb977ae",
   "metadata": {},
   "source": [
    "### 1.2 DNN (Inductive Transfer) - Confidence interval estimation"
   ]
  },
  {
   "cell_type": "code",
   "id": "7b69f517",
   "metadata": {
    "tags": []
   },
   "source": [
    "model_manager = BasicMLPModelManager(from_pretrained=True, device=device,\n",
    "                                     pretrained_path='../transfer_learning/pretrained_models/MLP_Scenario_C.pkl') # Add pre-trained models here\n",
    "\n",
    "with open(EXP_3_MLP_IT_WEEKLY_PARAMS_FILE, 'rb') as f:\n",
    "    best_mlp_params = pickle.load(f)\n",
    "\n",
    "params = get_best_params(params_AUC_pairs=best_mlp_params, n_weeks=3)\n",
    "MLP_TL_CI_results = train_with_CI(model_manager=model_manager, train_data_path=PREVENT_EXP1_PATH, features=ALL_FEATURES,\n",
    "                                  test_data_path=TEST_EXP1_PATH, interval=7, params=params,\n",
    "                                  eval_metric=MLP_EVAL_METRIC, class_weights=BIN_CLASSIFICATION_WEIGHTS)\n",
    "MLP_TL_CI_results.to_csv(EXP_3_MLP_IT_CI_FILE, index=False)"
   ],
   "outputs": [],
   "execution_count": null
  },
  {
   "cell_type": "code",
   "id": "df716130",
   "metadata": {},
   "source": [],
   "outputs": [],
   "execution_count": null
  }
 ],
 "metadata": {
  "kernelspec": {
   "display_name": "Python 3 (ipykernel)",
   "language": "python",
   "name": "python3"
  },
  "language_info": {
   "codemirror_mode": {
    "name": "ipython",
    "version": 3
   },
   "file_extension": ".py",
   "mimetype": "text/x-python",
   "name": "python",
   "nbconvert_exporter": "python",
   "pygments_lexer": "ipython3",
   "version": "3.11.6"
  }
 },
 "nbformat": 4,
 "nbformat_minor": 5
}
